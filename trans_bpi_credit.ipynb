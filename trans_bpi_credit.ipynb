{
 "cells": [
  {
   "cell_type": "code",
   "execution_count": null,
   "metadata": {},
   "outputs": [],
   "source": [
    "#import libraries\n",
    "import os\n",
    "import pandas as pd\n",
    "import re\n",
    "import csv\n",
    "from io import StringIO"
   ]
  },
  {
   "cell_type": "code",
   "execution_count": null,
   "metadata": {},
   "outputs": [],
   "source": [
    "#read file\n",
    "filename = input(\"Enter the file name : \")\n",
    "full_filename = filename + \".txt\"\n",
    "transactions_file=open(full_filename, \"r\")\n",
    "contents =transactions_file.read()\n",
    "transactions_file.close()"
   ]
  },
  {
   "cell_type": "code",
   "execution_count": null,
   "metadata": {},
   "outputs": [],
   "source": [
    "#make transformations\n",
    "string = contents\n",
    "#print(string)"
   ]
  },
  {
   "cell_type": "code",
   "execution_count": null,
   "metadata": {},
   "outputs": [],
   "source": [
    "#combine dates\n",
    "pattern = r\"(\\w{3})(\\n)\"\n",
    "replacement = r\"\\1 \"\n",
    "string1 = re.sub(pattern,replacement, string)\n",
    "\n",
    "#print(string1)"
   ]
  },
  {
   "cell_type": "code",
   "execution_count": null,
   "metadata": {},
   "outputs": [],
   "source": [
    "#combine description\n",
    "#pattern = r\"(\\d{2})(\\n)(\\d{2,4})\"\n",
    "#replacement = r\"\\1\\t\\3\"\n",
    "#string2 = re.sub(pattern,replacement, string1)\n",
    "\n",
    "#print(string2)"
   ]
  },
  {
   "cell_type": "code",
   "execution_count": null,
   "metadata": {},
   "outputs": [],
   "source": [
    "#combine amount and balance\n",
    "#pattern = r\"(\\.\\d{2})(\\n)(PHP )\"\n",
    "#replacement = r\"\\1\\t\"\n",
    "#string3 = re.sub(pattern,replacement, string2)\n",
    "\n",
    "#print(string3)"
   ]
  },
  {
   "cell_type": "code",
   "execution_count": null,
   "metadata": {},
   "outputs": [],
   "source": [
    "#get rid of PHP\n",
    "pattern = \"PHP \"\n",
    "replacement = r\"\\t\"\n",
    "string2 = re.sub(pattern,replacement, string1)\n",
    "\n",
    "#print(string2)"
   ]
  },
  {
   "cell_type": "code",
   "execution_count": null,
   "metadata": {},
   "outputs": [],
   "source": [
    "#separate transaction number\n",
    "#pattern = r\"(\\t)(\\d{4})( )\"\n",
    "#replacement = r\"\\1\\2\\t\"\n",
    "#string5 = re.sub(pattern,replacement, string4)\n",
    "\n",
    "#print(string5)"
   ]
  },
  {
   "cell_type": "code",
   "execution_count": null,
   "metadata": {},
   "outputs": [],
   "source": [
    "#get rid of commas\n",
    "pattern = \",\"\n",
    "replacement = \"\"\n",
    "string3 = re.sub(pattern,replacement, string2)\n",
    "\n",
    "#print(string3)"
   ]
  },
  {
   "cell_type": "code",
   "execution_count": null,
   "metadata": {},
   "outputs": [],
   "source": [
    "#put year\n",
    "pattern = r\"(\\w{3} \\d{2})(\\n)\"\n",
    "replacement = r\"\\1, 2020\\t\"\n",
    "string4 = re.sub(pattern,replacement, string3)\n",
    "\n",
    "#print(string4)"
   ]
  },
  {
   "cell_type": "code",
   "execution_count": null,
   "metadata": {},
   "outputs": [],
   "source": [
    "#align amounts\n",
    "pattern = r\"(\\n)(\\t\\d+\\.\\d{2})\"\n",
    "replacement = r\"\\2\"\n",
    "string5 = re.sub(pattern,replacement, string4)\n",
    "\n",
    "#print(string5)"
   ]
  },
  {
   "cell_type": "code",
   "execution_count": null,
   "metadata": {},
   "outputs": [],
   "source": [
    "#replace tabs with commas\n",
    "pattern = r\"\\t\"\n",
    "replacement = r\",\"\n",
    "string6 = re.sub(pattern,replacement,string5)\n",
    "\n",
    "#print(string6)"
   ]
  },
  {
   "cell_type": "code",
   "execution_count": null,
   "metadata": {},
   "outputs": [],
   "source": [
    "# wrap the string data in StringIO function \n",
    "#StringData = StringIO(string6) \n",
    "  \n",
    "# read the data using the Pandas read_csv() function \n",
    "#df = pd.read_csv(StringData, names = ['date','description','amount'])\n",
    "#df.head()\n"
   ]
  },
  {
   "cell_type": "code",
   "execution_count": null,
   "metadata": {},
   "outputs": [],
   "source": [
    "#add headers\n",
    "#string7 = \"Date,TransID,Description,Amount,Balance\\n\" + string6\n",
    "string7 = \"date\\tdescription\\tamount\\n\" + string5\n",
    "\n",
    "\n",
    "#print(string7)"
   ]
  },
  {
   "cell_type": "code",
   "execution_count": null,
   "metadata": {},
   "outputs": [],
   "source": [
    "#convert to dataframe\n",
    "\n",
    "# wrap the string data in StringIO function \n",
    "StringData = StringIO(string7) \n",
    "  \n",
    "# read the data using the Pandas read_csv() function \n",
    "df = pd.read_table(StringData)\n",
    "\n",
    "#convert date column to mm/dd/yyy\n",
    "df['date'] = pd.to_datetime(df.date)\n",
    "df['date'] = df['date'].dt.strftime('%m/%d/%Y')"
   ]
  },
  {
   "cell_type": "code",
   "execution_count": null,
   "metadata": {},
   "outputs": [],
   "source": [
    "#df.head()"
   ]
  },
  {
   "cell_type": "code",
   "execution_count": null,
   "metadata": {},
   "outputs": [],
   "source": [
    "#lower\n",
    "df.description = df.description.str.lower()\n",
    "#df.head()"
   ]
  },
  {
   "cell_type": "code",
   "execution_count": null,
   "metadata": {},
   "outputs": [],
   "source": [
    "#create deposit and withdraw columns\n",
    "df['withdraw'] = df['amount'].apply(lambda x: x if (x > 0) else 0)\n",
    "df['deposit'] = df['amount'].apply(lambda x: -x if (x < 0) else 0)\n",
    "#drop amount and balance columns\n",
    "df.drop(['amount'], axis = 1, inplace = True)"
   ]
  },
  {
   "cell_type": "code",
   "execution_count": null,
   "metadata": {},
   "outputs": [],
   "source": [
    "df.head()"
   ]
  },
  {
   "cell_type": "code",
   "execution_count": null,
   "metadata": {},
   "outputs": [],
   "source": [
    "#export to csv\n",
    "#current_dir = os.getcwd()\n",
    "#filename_csv_full = current_dir + \"/\" + filename + \".csv\"\n",
    "filename_csv_full = filename + \".csv\"\n",
    "export_csv = df.to_csv (filename_csv_full, index = None, header=True)"
   ]
  }
 ],
 "metadata": {
  "kernelspec": {
   "display_name": "Python 3",
   "language": "python",
   "name": "python3"
  },
  "language_info": {
   "codemirror_mode": {
    "name": "ipython",
    "version": 3
   },
   "file_extension": ".py",
   "mimetype": "text/x-python",
   "name": "python",
   "nbconvert_exporter": "python",
   "pygments_lexer": "ipython3",
   "version": "3.7.6"
  }
 },
 "nbformat": 4,
 "nbformat_minor": 2
}
