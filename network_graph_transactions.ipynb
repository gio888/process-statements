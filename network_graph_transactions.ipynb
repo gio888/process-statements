{
 "cells": [
  {
   "cell_type": "code",
   "execution_count": 1,
   "metadata": {},
   "outputs": [],
   "source": [
    "#import libraries\n",
    "import os\n",
    "import pandas as pd\n",
    "import re\n",
    "import csv\n",
    "from io import StringIO\n",
    "from pathlib import Path\n",
    "import networkx"
   ]
  },
  {
   "cell_type": "code",
   "execution_count": 3,
   "metadata": {},
   "outputs": [
    {
     "name": "stdout",
     "output_type": "stream",
     "text": [
      "Enter the file name : /Users/gio/Google Drive/Money/House Expenses/Transactions Gnucash All for network graph 2019 - Sheet1.csv\n"
     ]
    }
   ],
   "source": [
    "#read file\n",
    "filename = Path(input(\"Enter the file name : \"))"
   ]
  },
  {
   "cell_type": "code",
   "execution_count": 5,
   "metadata": {},
   "outputs": [],
   "source": [
    "df = pd.read_csv(filename)"
   ]
  },
  {
   "cell_type": "code",
   "execution_count": 7,
   "metadata": {},
   "outputs": [
    {
     "data": {
      "text/html": [
       "<div>\n",
       "<style scoped>\n",
       "    .dataframe tbody tr th:only-of-type {\n",
       "        vertical-align: middle;\n",
       "    }\n",
       "\n",
       "    .dataframe tbody tr th {\n",
       "        vertical-align: top;\n",
       "    }\n",
       "\n",
       "    .dataframe thead th {\n",
       "        text-align: right;\n",
       "    }\n",
       "</style>\n",
       "<table border=\"1\" class=\"dataframe\">\n",
       "  <thead>\n",
       "    <tr style=\"text-align: right;\">\n",
       "      <th></th>\n",
       "      <th>Date</th>\n",
       "      <th>Account01</th>\n",
       "      <th>Account02</th>\n",
       "      <th>Amount</th>\n",
       "    </tr>\n",
       "  </thead>\n",
       "  <tbody>\n",
       "    <tr>\n",
       "      <th>0</th>\n",
       "      <td>01/03/2019</td>\n",
       "      <td>Assets:Current Assets:Banks Foreign:HSBC Savin...</td>\n",
       "      <td>Liabilities:Credit Card:HSBC Visa</td>\n",
       "      <td>-12,903.09</td>\n",
       "    </tr>\n",
       "    <tr>\n",
       "      <th>1</th>\n",
       "      <td>01/09/2019</td>\n",
       "      <td>Assets:Current Assets:Banks Foreign:HSBC Savin...</td>\n",
       "      <td>Assets:Current Assets:Banks Local:BPI Savings ...</td>\n",
       "      <td>-290,000.00</td>\n",
       "    </tr>\n",
       "    <tr>\n",
       "      <th>2</th>\n",
       "      <td>01/10/2019</td>\n",
       "      <td>Assets:Current Assets:Banks Foreign:HSBC Savin...</td>\n",
       "      <td>Income:Salary:Briony</td>\n",
       "      <td>493,775.32</td>\n",
       "    </tr>\n",
       "    <tr>\n",
       "      <th>3</th>\n",
       "      <td>01/10/2019</td>\n",
       "      <td>Assets:Current Assets:Banks Foreign:HSBC Savin...</td>\n",
       "      <td>Income:Salary:Briony</td>\n",
       "      <td>719,600.26</td>\n",
       "    </tr>\n",
       "    <tr>\n",
       "      <th>4</th>\n",
       "      <td>01/10/2019</td>\n",
       "      <td>Assets:Current Assets:Banks Foreign:HSBC Savin...</td>\n",
       "      <td>Assets:Current Assets:Banks Local:BPI Savings ...</td>\n",
       "      <td>-290,000.00</td>\n",
       "    </tr>\n",
       "  </tbody>\n",
       "</table>\n",
       "</div>"
      ],
      "text/plain": [
       "         Date                                          Account01  \\\n",
       "0  01/03/2019  Assets:Current Assets:Banks Foreign:HSBC Savin...   \n",
       "1  01/09/2019  Assets:Current Assets:Banks Foreign:HSBC Savin...   \n",
       "2  01/10/2019  Assets:Current Assets:Banks Foreign:HSBC Savin...   \n",
       "3  01/10/2019  Assets:Current Assets:Banks Foreign:HSBC Savin...   \n",
       "4  01/10/2019  Assets:Current Assets:Banks Foreign:HSBC Savin...   \n",
       "\n",
       "                                           Account02       Amount  \n",
       "0                  Liabilities:Credit Card:HSBC Visa   -12,903.09  \n",
       "1  Assets:Current Assets:Banks Local:BPI Savings ...  -290,000.00  \n",
       "2                               Income:Salary:Briony   493,775.32  \n",
       "3                               Income:Salary:Briony   719,600.26  \n",
       "4  Assets:Current Assets:Banks Local:BPI Savings ...  -290,000.00  "
      ]
     },
     "execution_count": 7,
     "metadata": {},
     "output_type": "execute_result"
    }
   ],
   "source": [
    "df.head()"
   ]
  },
  {
   "cell_type": "code",
   "execution_count": null,
   "metadata": {},
   "outputs": [],
   "source": []
  }
 ],
 "metadata": {
  "kernelspec": {
   "display_name": "Python 3",
   "language": "python",
   "name": "python3"
  },
  "language_info": {
   "codemirror_mode": {
    "name": "ipython",
    "version": 3
   },
   "file_extension": ".py",
   "mimetype": "text/x-python",
   "name": "python",
   "nbconvert_exporter": "python",
   "pygments_lexer": "ipython3",
   "version": "3.8.3"
  }
 },
 "nbformat": 4,
 "nbformat_minor": 4
}
