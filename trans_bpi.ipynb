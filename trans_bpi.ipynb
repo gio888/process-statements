{
 "cells": [
  {
   "cell_type": "code",
   "execution_count": null,
   "metadata": {
    "colab": {},
    "colab_type": "code",
    "id": "kP3mqK4pCNT6"
   },
   "outputs": [],
   "source": [
    "#import libraries\n",
    "import os\n",
    "import pandas as pd\n",
    "import re\n",
    "import csv\n",
    "from io import StringIO"
   ]
  },
  {
   "cell_type": "code",
   "execution_count": null,
   "metadata": {
    "colab": {
     "base_uri": "https://localhost:8080/",
     "height": 34
    },
    "colab_type": "code",
    "id": "r_12tSpKCNUA",
    "outputId": "36e582ec-bbf1-4bb2-e642-25bb6ec2bf3d"
   },
   "outputs": [],
   "source": [
    "#read file\n",
    "filename = Path(input(\"Enter the file name : \"))\n",
    "#currentDirectory = os.getcwd()\n",
    "#filename = input(\"Enter the file name : \")\n",
    "#full_filename = currentDirectory + \"/\" + filename + \".txt\"\n",
    "transactions_file=open(filename, \"r\")\n",
    "contents =transactions_file.read()\n",
    "transactions_file.close()"
   ]
  },
  {
   "cell_type": "code",
   "execution_count": null,
   "metadata": {
    "colab": {},
    "colab_type": "code",
    "id": "-Jv9s8_yCNUC"
   },
   "outputs": [],
   "source": [
    "#make transformations\n",
    "string = contents\n",
    "#print(string)"
   ]
  },
  {
   "cell_type": "code",
   "execution_count": null,
   "metadata": {
    "colab": {},
    "colab_type": "code",
    "id": "o6T0PVd6Uqfl"
   },
   "outputs": [],
   "source": [
    "#make everything 1 long string\n",
    "#months = [Jan,Feb,Mar,Apr,May,Jun,Jul,Aug,Sep,Oct,Nov,Dec]\n",
    "pattern = r\"\\n\"\n",
    "replacement = \" \"\n",
    "string01 = re.sub(pattern,replacement, string)\n",
    "\n",
    "#print(string01)"
   ]
  },
  {
   "cell_type": "code",
   "execution_count": null,
   "metadata": {
    "colab": {},
    "colab_type": "code",
    "id": "qgMKUoJeVaHX"
   },
   "outputs": [],
   "source": [
    "#separate by date\n",
    "pattern = r\"( Jan| Feb| Mar| Apr| May| Jun| Jul| Aug| Sep| Oct| Nov| Dec)\"\n",
    "replacement = r\"\\n\\1\"\n",
    "string02 = re.sub(pattern,replacement, string01)\n",
    "\n",
    "#print(string02)"
   ]
  },
  {
   "cell_type": "code",
   "execution_count": null,
   "metadata": {
    "colab": {},
    "colab_type": "code",
    "id": "4IorReWjc2y1"
   },
   "outputs": [],
   "source": [
    "#get rid of extra spaces\n",
    "pattern = r\"\\n \"\n",
    "replacement = r\"\\n\"\n",
    "string03 = re.sub(pattern,replacement, string02)\n",
    "\n",
    "#print(string03)"
   ]
  },
  {
   "cell_type": "code",
   "execution_count": null,
   "metadata": {
    "colab": {
     "base_uri": "https://localhost:8080/",
     "height": 187
    },
    "colab_type": "code",
    "id": "_yBY15lACNUU",
    "outputId": "4dafd4b6-79ea-406a-b3db-7675c9631c53"
   },
   "outputs": [],
   "source": [
    "#get rid of commas\n",
    "pattern = \",\"\n",
    "replacement = \"\"\n",
    "string04 = re.sub(pattern,replacement, string03)\n",
    "\n",
    "#print(string04)"
   ]
  },
  {
   "cell_type": "code",
   "execution_count": null,
   "metadata": {
    "colab": {
     "base_uri": "https://localhost:8080/",
     "height": 187
    },
    "colab_type": "code",
    "id": "EBEBeHo7f_Yo",
    "outputId": "bc16db69-c233-49eb-bab4-ac0ae8910ebf"
   },
   "outputs": [],
   "source": [
    "#separate date\n",
    "pattern = r\"(Jan|Feb|Mar|Apr|May|Jun|Jul|Aug|Sep|Oct|Nov|Dec)( \\d{2})( )\"\n",
    "replacement = r\"\\1\\2,\"\n",
    "string05 = re.sub(pattern,replacement, string04)\n",
    "\n",
    "#print(string05)"
   ]
  },
  {
   "cell_type": "code",
   "execution_count": null,
   "metadata": {
    "colab": {
     "base_uri": "https://localhost:8080/",
     "height": 187
    },
    "colab_type": "code",
    "id": "Rv5ox2OOCNUO",
    "outputId": "a28c80a7-cf56-4b7a-dcf4-a5e1e6ee6283"
   },
   "outputs": [],
   "source": [
    "#get rid of PHP\n",
    "pattern = \" PHP \"\n",
    "replacement = \",\"\n",
    "string06 = re.sub(pattern,replacement, string05)\n",
    "\n",
    "#print(string06)"
   ]
  },
  {
   "cell_type": "code",
   "execution_count": null,
   "metadata": {
    "colab": {},
    "colab_type": "code",
    "id": "2ATOzx2aCNUd"
   },
   "outputs": [],
   "source": [
    "#add headers\n",
    "string07 = \"Date,Description,Amount,Balance\\n\" + string06\n",
    "\n",
    "\n",
    "#print(string07)"
   ]
  },
  {
   "cell_type": "code",
   "execution_count": null,
   "metadata": {
    "colab": {},
    "colab_type": "code",
    "id": "U3i0t1hhCNUg"
   },
   "outputs": [],
   "source": [
    "#convert to dataframe\n",
    "\n",
    "# wrap the string data in StringIO function \n",
    "StringData = StringIO(string07) \n",
    "  \n",
    "# read the data using the Pandas read_csv() function \n",
    "df = pd.read_csv(StringData,parse_dates=[1],infer_datetime_format=True)\n",
    "df.dtypes\n",
    "\n",
    "#convert date column to mm/dd/yyy\n",
    "df['Date'] = pd.to_datetime(df.Date + r\", 2020\")\n",
    "df['Date'] = df['Date'].dt.strftime('%m/%d/%Y')"
   ]
  },
  {
   "cell_type": "code",
   "execution_count": null,
   "metadata": {
    "colab": {},
    "colab_type": "code",
    "id": "fTRmCfT5rUfv"
   },
   "outputs": [],
   "source": [
    "#convert to lower\n",
    "df.Description = df.Description.str.lower()"
   ]
  },
  {
   "cell_type": "code",
   "execution_count": null,
   "metadata": {},
   "outputs": [],
   "source": [
    "#create deposit and withdraw columns\n",
    "df['Withdraw'] = df['Amount'].apply(lambda x: -x if (x < 0) else 0)\n",
    "df['Deposit'] = df['Amount'].apply(lambda x: x if (x > 0) else 0)"
   ]
  },
  {
   "cell_type": "code",
   "execution_count": null,
   "metadata": {},
   "outputs": [],
   "source": [
    "#drop amount and balance columns\n",
    "df.drop(['Amount','Balance'], axis = 1, inplace = True)"
   ]
  },
  {
   "cell_type": "code",
   "execution_count": null,
   "metadata": {
    "colab": {},
    "colab_type": "code",
    "id": "m7pK1TkdCNUj"
   },
   "outputs": [],
   "source": [
    "#export to csv\n",
    "#current_dir = os.getcwd()\n",
    "#filename_csv_full = current_dir + \"/\" + filename + \".csv\"\n",
    "filename_csv_full = 'for import ' + filename.name + \".csv\"\n",
    "export_csv = df.to_csv (filename_csv_full, index = None, header=True)"
   ]
  }
 ],
 "metadata": {
  "colab": {
   "collapsed_sections": [],
   "name": "Transform_trans_bpiv3.ipynb",
   "provenance": []
  },
  "kernelspec": {
   "display_name": "Python 3",
   "language": "python",
   "name": "python3"
  },
  "language_info": {
   "codemirror_mode": {
    "name": "ipython",
    "version": 3
   },
   "file_extension": ".py",
   "mimetype": "text/x-python",
   "name": "python",
   "nbconvert_exporter": "python",
   "pygments_lexer": "ipython3",
   "version": "3.7.6"
  }
 },
 "nbformat": 4,
 "nbformat_minor": 1
}
