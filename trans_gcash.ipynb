{
 "cells": [
  {
   "cell_type": "code",
   "execution_count": 1,
   "metadata": {},
   "outputs": [],
   "source": [
    "#import libraries\n",
    "import os\n",
    "import pandas as pd\n",
    "import re\n",
    "import csv\n",
    "from io import StringIO\n",
    "from pathlib import Path"
   ]
  },
  {
   "cell_type": "code",
   "execution_count": 6,
   "metadata": {},
   "outputs": [
    {
     "name": "stdout",
     "output_type": "stream",
     "text": [
      "Enter the file name : /Users/gio/Google Drive/Money/Gcash/Transaction History gcash 2020-08-31.csv\n"
     ]
    }
   ],
   "source": [
    "#read file\n",
    "filename = Path(input(\"Enter the file name : \"))"
   ]
  },
  {
   "cell_type": "code",
   "execution_count": 7,
   "metadata": {},
   "outputs": [],
   "source": [
    "#load csv to dataframe\n",
    "df = pd.read_csv(filename, names = ['datetime','desc','id','withdraw','deposit'], usecols = [0,1,2,3,4])[:-3]"
   ]
  },
  {
   "cell_type": "code",
   "execution_count": 8,
   "metadata": {},
   "outputs": [
    {
     "data": {
      "text/html": [
       "<div>\n",
       "<style scoped>\n",
       "    .dataframe tbody tr th:only-of-type {\n",
       "        vertical-align: middle;\n",
       "    }\n",
       "\n",
       "    .dataframe tbody tr th {\n",
       "        vertical-align: top;\n",
       "    }\n",
       "\n",
       "    .dataframe thead th {\n",
       "        text-align: right;\n",
       "    }\n",
       "</style>\n",
       "<table border=\"1\" class=\"dataframe\">\n",
       "  <thead>\n",
       "    <tr style=\"text-align: right;\">\n",
       "      <th></th>\n",
       "      <th>datetime</th>\n",
       "      <th>desc</th>\n",
       "      <th>id</th>\n",
       "      <th>withdraw</th>\n",
       "      <th>deposit</th>\n",
       "    </tr>\n",
       "  </thead>\n",
       "  <tbody>\n",
       "    <tr>\n",
       "      <th>0</th>\n",
       "      <td>2020-08-01 04:22 PM</td>\n",
       "      <td>Transfer from 09989667209 to 09618353222</td>\n",
       "      <td>6000319911834</td>\n",
       "      <td>650.00</td>\n",
       "      <td>NaN</td>\n",
       "    </tr>\n",
       "    <tr>\n",
       "      <th>1</th>\n",
       "      <td>2020-08-01 10:35 PM</td>\n",
       "      <td>Received GCash from BPI</td>\n",
       "      <td>6000320732197</td>\n",
       "      <td>NaN</td>\n",
       "      <td>5000.0</td>\n",
       "    </tr>\n",
       "    <tr>\n",
       "      <th>2</th>\n",
       "      <td>2020-08-01 10:36 PM</td>\n",
       "      <td>Transfer from 09989667209 to 09985611744</td>\n",
       "      <td>6000320733279</td>\n",
       "      <td>2870.50</td>\n",
       "      <td>NaN</td>\n",
       "    </tr>\n",
       "    <tr>\n",
       "      <th>3</th>\n",
       "      <td>2020-08-08 03:22 PM</td>\n",
       "      <td>Transfer from 09989667209 to 09209210935</td>\n",
       "      <td>6000336365647</td>\n",
       "      <td>220.00</td>\n",
       "      <td>NaN</td>\n",
       "    </tr>\n",
       "    <tr>\n",
       "      <th>4</th>\n",
       "      <td>2020-08-19 09:41 AM</td>\n",
       "      <td>Received GCash from BPI</td>\n",
       "      <td>6000362305124</td>\n",
       "      <td>NaN</td>\n",
       "      <td>10000.0</td>\n",
       "    </tr>\n",
       "    <tr>\n",
       "      <th>5</th>\n",
       "      <td>2020-08-19 09:42 AM</td>\n",
       "      <td>Payment to Mercury Drug</td>\n",
       "      <td>0000648350973</td>\n",
       "      <td>8561.25</td>\n",
       "      <td>NaN</td>\n",
       "    </tr>\n",
       "    <tr>\n",
       "      <th>6</th>\n",
       "      <td>2020-08-19 02:52 PM</td>\n",
       "      <td>Transfer from 09989667209 to 09458128986</td>\n",
       "      <td>6000363206521</td>\n",
       "      <td>150.00</td>\n",
       "      <td>NaN</td>\n",
       "    </tr>\n",
       "    <tr>\n",
       "      <th>7</th>\n",
       "      <td>2020-08-20 12:18 PM</td>\n",
       "      <td>Transfer from 09989667209 to 09478900059</td>\n",
       "      <td>6000365200896</td>\n",
       "      <td>495.00</td>\n",
       "      <td>NaN</td>\n",
       "    </tr>\n",
       "  </tbody>\n",
       "</table>\n",
       "</div>"
      ],
      "text/plain": [
       "              datetime                                      desc  \\\n",
       "0  2020-08-01 04:22 PM  Transfer from 09989667209 to 09618353222   \n",
       "1  2020-08-01 10:35 PM                   Received GCash from BPI   \n",
       "2  2020-08-01 10:36 PM  Transfer from 09989667209 to 09985611744   \n",
       "3  2020-08-08 03:22 PM  Transfer from 09989667209 to 09209210935   \n",
       "4  2020-08-19 09:41 AM                   Received GCash from BPI   \n",
       "5  2020-08-19 09:42 AM                   Payment to Mercury Drug   \n",
       "6  2020-08-19 02:52 PM  Transfer from 09989667209 to 09458128986   \n",
       "7  2020-08-20 12:18 PM  Transfer from 09989667209 to 09478900059   \n",
       "\n",
       "              id  withdraw  deposit  \n",
       "0  6000319911834    650.00      NaN  \n",
       "1  6000320732197       NaN   5000.0  \n",
       "2  6000320733279   2870.50      NaN  \n",
       "3  6000336365647    220.00      NaN  \n",
       "4  6000362305124       NaN  10000.0  \n",
       "5  0000648350973   8561.25      NaN  \n",
       "6  6000363206521    150.00      NaN  \n",
       "7  6000365200896    495.00      NaN  "
      ]
     },
     "execution_count": 8,
     "metadata": {},
     "output_type": "execute_result"
    }
   ],
   "source": [
    "df"
   ]
  },
  {
   "cell_type": "code",
   "execution_count": 9,
   "metadata": {},
   "outputs": [],
   "source": [
    "#convert id to integer then to a string\n",
    "df['id'] = df['id'].astype('int64')\n",
    "df['id'] = df['id'].astype('str')"
   ]
  },
  {
   "cell_type": "code",
   "execution_count": null,
   "metadata": {},
   "outputs": [],
   "source": [
    "#join desc + id then drop it\n",
    "df['desc'] = df['desc'] + ' ' + df['id']\n",
    "df.drop(columns = ['id'],inplace = True)"
   ]
  },
  {
   "cell_type": "code",
   "execution_count": null,
   "metadata": {},
   "outputs": [],
   "source": [
    "df['datetime'] = pd.to_datetime(df['datetime'])\n",
    "df['datetime'] = df['datetime'].dt.strftime('%m/%d/%Y')"
   ]
  },
  {
   "cell_type": "code",
   "execution_count": null,
   "metadata": {},
   "outputs": [],
   "source": [
    "#get rid of NaNs\n",
    "df = df.fillna(value = 0)"
   ]
  },
  {
   "cell_type": "code",
   "execution_count": null,
   "metadata": {},
   "outputs": [],
   "source": [
    "#lower case\n",
    "df['desc'] = df['desc'].str.lower()"
   ]
  },
  {
   "cell_type": "code",
   "execution_count": null,
   "metadata": {},
   "outputs": [],
   "source": [
    "#strip unneeded spaces\n",
    "df['desc'] = df['desc'].str.strip()\n",
    "df['desc'] = df['desc'].str.replace(\" +\",\" \")"
   ]
  },
  {
   "cell_type": "code",
   "execution_count": null,
   "metadata": {},
   "outputs": [],
   "source": [
    "#change order\n",
    "df = df[['datetime','desc','deposit','withdraw']]"
   ]
  },
  {
   "cell_type": "code",
   "execution_count": null,
   "metadata": {},
   "outputs": [],
   "source": [
    "#export to csv\n",
    "filename_csv_full = 'for import ' + filename.name\n",
    "export_csv = df.to_csv (filename_csv_full, index = None, header=True)"
   ]
  }
 ],
 "metadata": {
  "kernelspec": {
   "display_name": "Python 3",
   "language": "python",
   "name": "python3"
  },
  "language_info": {
   "codemirror_mode": {
    "name": "ipython",
    "version": 3
   },
   "file_extension": ".py",
   "mimetype": "text/x-python",
   "name": "python",
   "nbconvert_exporter": "python",
   "pygments_lexer": "ipython3",
   "version": "3.7.7"
  }
 },
 "nbformat": 4,
 "nbformat_minor": 4
}
