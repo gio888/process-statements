{
 "cells": [
  {
   "cell_type": "code",
   "execution_count": null,
   "metadata": {},
   "outputs": [],
   "source": [
    "#import libraries\n",
    "import os\n",
    "import pandas as pd\n",
    "import re\n",
    "import csv\n",
    "from io import StringIO\n",
    "from pathlib import Path"
   ]
  },
  {
   "cell_type": "code",
   "execution_count": null,
   "metadata": {},
   "outputs": [],
   "source": [
    "#read file\n",
    "filename = Path(input(\"Enter the file name : \"))"
   ]
  },
  {
   "cell_type": "code",
   "execution_count": null,
   "metadata": {},
   "outputs": [],
   "source": [
    "#load csv to dataframe\n",
    "col_list = ['post_date', 'sale_date', 'desc', 'amount']\n",
    "df = pd.read_csv(filename, names = col_list)"
   ]
  },
  {
   "cell_type": "code",
   "execution_count": null,
   "metadata": {},
   "outputs": [],
   "source": [
    "#drop unneeded columns\n",
    "df.drop(['post_date'], axis = 1, inplace = True)"
   ]
  },
  {
   "cell_type": "code",
   "execution_count": null,
   "metadata": {},
   "outputs": [],
   "source": [
    "#fix date\n",
    "#extract day month year\n",
    "from datetime import datetime\n",
    "\n",
    "day = df.sale_date.str.extract(r'(\\d{2})', expand = False)\n",
    "month = df.sale_date.str.extract(r'([A-Za-z]{3})', expand = False)\n",
    "year = str(datetime.now().year)\n",
    "\n",
    "# refill column\n",
    "df['date'] = pd.to_datetime((month + ' ' + day + ', ' + year)).dt.strftime(\"%m/%d/%Y\")\n"
   ]
  },
  {
   "cell_type": "code",
   "execution_count": null,
   "metadata": {},
   "outputs": [],
   "source": [
    "#extract text from sale_date\n",
    "df['desc01'] = df.sale_date.str.replace('\\d{2} [A-Za-z]{3}','').str.strip()"
   ]
  },
  {
   "cell_type": "code",
   "execution_count": null,
   "metadata": {},
   "outputs": [],
   "source": [
    "#get rid of nan rows\n",
    "df = df.loc[-df.date.isna()]"
   ]
  },
  {
   "cell_type": "code",
   "execution_count": null,
   "metadata": {},
   "outputs": [],
   "source": [
    "#fix desc\n",
    "df['desc'] = df.desc.str.replace('\\n',' ')"
   ]
  },
  {
   "cell_type": "code",
   "execution_count": null,
   "metadata": {},
   "outputs": [],
   "source": [
    "df.desc = df.desc.fillna('')"
   ]
  },
  {
   "cell_type": "code",
   "execution_count": null,
   "metadata": {},
   "outputs": [],
   "source": [
    "#combine descriptions\n",
    "df['desc'] = df.desc01 + ' ' + df.desc"
   ]
  },
  {
   "cell_type": "code",
   "execution_count": null,
   "metadata": {},
   "outputs": [],
   "source": [
    "#create deposit and withdraw columns\n",
    "df['debit'] = df['amount'].apply(lambda x: x if ('CR'not in x) else '0')\n",
    "df['credit'] = df['amount'].apply(lambda x: x if ('CR' in x) else '0').str.replace('CR','').fillna('0')"
   ]
  },
  {
   "cell_type": "code",
   "execution_count": null,
   "metadata": {},
   "outputs": [],
   "source": [
    "#drop unneeded columns\n",
    "df.drop(['sale_date','amount', 'desc01'], axis = 1, inplace = True)"
   ]
  },
  {
   "cell_type": "code",
   "execution_count": null,
   "metadata": {},
   "outputs": [],
   "source": [
    "#set order\n",
    "df = df[['date','desc','debit','credit']]"
   ]
  },
  {
   "cell_type": "code",
   "execution_count": null,
   "metadata": {},
   "outputs": [],
   "source": [
    "#strip unneeded spaces\n",
    "df.desc = df.desc.str.strip()\n",
    "df.desc = df.desc.str.replace(\" +\",\" \")"
   ]
  },
  {
   "cell_type": "code",
   "execution_count": null,
   "metadata": {},
   "outputs": [],
   "source": [
    "#lower\n",
    "df['desc'] = df.desc.str.lower()"
   ]
  },
  {
   "cell_type": "code",
   "execution_count": null,
   "metadata": {},
   "outputs": [],
   "source": [
    "#replace spaces with decimal in dirty amounts\n",
    "#(df.debit.str.isnumeric())\n",
    "df.debit = df.debit.str.replace(' ','.')"
   ]
  },
  {
   "cell_type": "code",
   "execution_count": null,
   "metadata": {},
   "outputs": [],
   "source": [
    "#export to csv\n",
    "filename_csv_full = 'for import ' + filename.name\n",
    "export_csv = df.to_csv (filename_csv_full, index = None, header=True)"
   ]
  }
 ],
 "metadata": {
  "kernelspec": {
   "display_name": "Python 3",
   "language": "python",
   "name": "python3"
  },
  "language_info": {
   "codemirror_mode": {
    "name": "ipython",
    "version": 3
   },
   "file_extension": ".py",
   "mimetype": "text/x-python",
   "name": "python",
   "nbconvert_exporter": "python",
   "pygments_lexer": "ipython3",
   "version": "3.7.6"
  }
 },
 "nbformat": 4,
 "nbformat_minor": 4
}
