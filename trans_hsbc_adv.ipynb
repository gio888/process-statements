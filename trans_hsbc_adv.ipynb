{
 "cells": [
  {
   "cell_type": "code",
   "execution_count": null,
   "metadata": {},
   "outputs": [],
   "source": [
    "#import libraries\n",
    "import os\n",
    "import pandas as pd\n",
    "import re\n",
    "import csv\n",
    "from io import StringIO\n",
    "from pathlib import Path"
   ]
  },
  {
   "cell_type": "code",
   "execution_count": null,
   "metadata": {},
   "outputs": [],
   "source": [
    "#read file\n",
    "filename = Path(input(\"Enter the file name : \"))"
   ]
  },
  {
   "cell_type": "code",
   "execution_count": null,
   "metadata": {},
   "outputs": [],
   "source": [
    "#load csv to dataframe\n",
    "col_list = ['date_raw', 'desc_raw', 'debit_raw', 'credit_raw','bal_raw']\n",
    "df = pd.read_csv(filename, names = col_list)"
   ]
  },
  {
   "cell_type": "code",
   "execution_count": null,
   "metadata": {},
   "outputs": [],
   "source": [
    "#clean up date field\n",
    "new = df[\"date_raw\"].str.split(\" \", n = 1, expand = True)\n",
    "\n",
    "# making separate first name column from new data frame \n",
    "df[\"date\"]= new[0] \n",
    "  \n",
    "# making separate last name column from new data frame \n",
    "df[\"desc01\"]= new[1] \n",
    "  \n",
    "# Dropping old Name columns \n",
    "#df.drop(columns =[\"Name\"], inplace = True)"
   ]
  },
  {
   "cell_type": "code",
   "execution_count": null,
   "metadata": {},
   "outputs": [],
   "source": [
    "#fill blank dates\n",
    "df.date = df.date.fillna(method = 'ffill')"
   ]
  },
  {
   "cell_type": "code",
   "execution_count": null,
   "metadata": {},
   "outputs": [],
   "source": [
    "#drop last 3 rows\n",
    "df.drop(df.tail(3).index,inplace=True)"
   ]
  },
  {
   "cell_type": "code",
   "execution_count": null,
   "metadata": {},
   "outputs": [],
   "source": [
    "#fix date\n",
    "#extract day month year\n",
    "day = df.date.str.extract(r'(\\d{2})', expand = False)\n",
    "month = df.date.str.extract(r'([A-Za-z]{3})', expand = False)\n",
    "year = df.date.str.extract(r'(\\d{4})', expand = False)\n",
    "# refill column\n",
    "df['date'] = pd.to_datetime((month + ' ' + day + \", \" + year)).dt.strftime(\"%m/%d/%Y\")\n"
   ]
  },
  {
   "cell_type": "code",
   "execution_count": null,
   "metadata": {},
   "outputs": [],
   "source": [
    "#fix desc\n",
    "#fix nan\n",
    "df[['desc01','desc_raw']] = df[['desc01','desc_raw']].fillna('') \n",
    "#fix \\n\n",
    "df['desc_raw'] = df.desc_raw.str.replace('\\n',' ')\n",
    "df['desc'] = (df.desc01 + ' ' + df.desc_raw).str.lower()"
   ]
  },
  {
   "cell_type": "code",
   "execution_count": null,
   "metadata": {},
   "outputs": [],
   "source": [
    "#drop unneeded rows\n",
    "df = df.drop(df[(df.debit_raw.isna() & df.credit_raw.isna())].index)"
   ]
  },
  {
   "cell_type": "code",
   "execution_count": null,
   "metadata": {},
   "outputs": [],
   "source": [
    "#get rid of NaNs\n",
    "df = df.fillna(value = 0)"
   ]
  },
  {
   "cell_type": "code",
   "execution_count": null,
   "metadata": {},
   "outputs": [],
   "source": [
    "#drop unneeded columns\n",
    "df.drop(['date_raw','desc_raw','bal_raw','desc01'], axis = 1, inplace = True)"
   ]
  },
  {
   "cell_type": "code",
   "execution_count": null,
   "metadata": {},
   "outputs": [],
   "source": [
    "#rearrage\n",
    "df = df[['date','desc','debit_raw','credit_raw']]"
   ]
  },
  {
   "cell_type": "code",
   "execution_count": null,
   "metadata": {},
   "outputs": [],
   "source": [
    "#drop unneeded rows\n",
    "df = df.loc[-df.debit_raw.str.contains('\\n',na=False)]"
   ]
  },
  {
   "cell_type": "code",
   "execution_count": null,
   "metadata": {},
   "outputs": [],
   "source": [
    "#strip unneeded spaces\n",
    "df.desc = df.desc.str.strip()\n",
    "df.desc = df.desc.str.replace(\" +\",\" \")"
   ]
  },
  {
   "cell_type": "code",
   "execution_count": null,
   "metadata": {},
   "outputs": [],
   "source": [
    "#export to csv\n",
    "filename_csv_full = 'for import ' + filename.name\n",
    "export_csv = df.to_csv (filename_csv_full, index = None, header=True)"
   ]
  }
 ],
 "metadata": {
  "kernelspec": {
   "display_name": "Python 3",
   "language": "python",
   "name": "python3"
  },
  "language_info": {
   "codemirror_mode": {
    "name": "ipython",
    "version": 3
   },
   "file_extension": ".py",
   "mimetype": "text/x-python",
   "name": "python",
   "nbconvert_exporter": "python",
   "pygments_lexer": "ipython3",
   "version": "3.7.6"
  }
 },
 "nbformat": 4,
 "nbformat_minor": 4
}
