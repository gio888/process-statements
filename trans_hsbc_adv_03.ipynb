{
 "cells": [
  {
   "cell_type": "code",
   "execution_count": 1,
   "metadata": {},
   "outputs": [],
   "source": [
    "#import libraries\n",
    "import os\n",
    "import pandas as pd\n",
    "import re\n",
    "import csv\n",
    "from io import StringIO\n",
    "from pathlib import Path"
   ]
  },
  {
   "cell_type": "code",
   "execution_count": 2,
   "metadata": {},
   "outputs": [
    {
     "name": "stdout",
     "output_type": "stream",
     "text": [
      "Enter the file name : /Users/gio/Google Drive/Briony share/Financial Records/HSBC Advance Statements/20200115 HSBC Advance Statement 105.csv\n"
     ]
    }
   ],
   "source": [
    "#read file\n",
    "filename = Path(input(\"Enter the file name : \"))"
   ]
  },
  {
   "cell_type": "code",
   "execution_count": 3,
   "metadata": {},
   "outputs": [],
   "source": [
    "#load csv to dataframe\n",
    "col_list = ['date_raw', 'desc_raw', 'credit_raw', 'debit_raw', 'bal_raw']\n",
    "df = pd.read_csv(filename, names = col_list)"
   ]
  },
  {
   "cell_type": "code",
   "execution_count": 4,
   "metadata": {},
   "outputs": [],
   "source": [
    "origdf = df"
   ]
  },
  {
   "cell_type": "code",
   "execution_count": 139,
   "metadata": {},
   "outputs": [],
   "source": [
    "df = origdf"
   ]
  },
  {
   "cell_type": "code",
   "execution_count": 140,
   "metadata": {},
   "outputs": [],
   "source": [
    "#clean up date field\n",
    "new = df[\"date_raw\"].str.split(\" \", n = 1, expand = True)\n",
    "\n",
    "# making separate first name column from new data frame \n",
    "df[\"date\"]= new[0] \n",
    "  \n",
    "# making separate last name column from new data frame \n",
    "df[\"desc01\"]= new[1] \n",
    "  \n",
    "# Dropping old Name columns \n",
    "#df.drop(columns =[\"Name\"], inplace = True)"
   ]
  },
  {
   "cell_type": "code",
   "execution_count": 141,
   "metadata": {},
   "outputs": [],
   "source": [
    "df = df[['date_raw','date','desc01','desc_raw','credit_raw','debit_raw','bal_raw']]"
   ]
  },
  {
   "cell_type": "code",
   "execution_count": 142,
   "metadata": {},
   "outputs": [],
   "source": [
    "#fix date\n",
    "#extract day month year\n",
    "day = df.date.str.extract(r'(\\d{2})', expand = False)\n",
    "month = df.date.str.extract(r'([A-Za-z]{3})', expand = False)\n",
    "year = df.date.str.extract(r'(\\d{4})', expand = False)\n",
    "# refill column\n",
    "df['date'] = pd.to_datetime((month + ' ' + day + \", \" + year)).dt.strftime(\"%m/%d/%Y\")\n"
   ]
  },
  {
   "cell_type": "code",
   "execution_count": 143,
   "metadata": {},
   "outputs": [],
   "source": [
    "#fix desc\n",
    "#fix nan\n",
    "df[['desc01','desc_raw']] = df[['desc01','desc_raw']].fillna('') \n",
    "#fix \\n\n",
    "df['desc_raw'] = df.desc_raw.str.replace('\\n',' ')\n",
    "df['desc'] = (df.desc01 + ' ' + df.desc_raw).str.lower()"
   ]
  },
  {
   "cell_type": "code",
   "execution_count": 144,
   "metadata": {},
   "outputs": [],
   "source": [
    "#drop unneeded columns\n",
    "df.drop(['date_raw','desc_raw','bal_raw','desc01'], axis = 1, inplace = True)"
   ]
  },
  {
   "cell_type": "code",
   "execution_count": 145,
   "metadata": {},
   "outputs": [],
   "source": [
    "#fix na of debit and credit rows\n",
    "df[['credit_raw','debit_raw']] = df[['credit_raw','debit_raw']].fillna(value = 0)"
   ]
  },
  {
   "cell_type": "code",
   "execution_count": 146,
   "metadata": {},
   "outputs": [],
   "source": [
    "#combine rows that needed to be combined\n",
    "df['flag'] = df.credit_raw + df.debit_raw\n",
    "bad_row_list = df[df['flag']==0].index.tolist()\n",
    "for row in bad_row_list:\n",
    "    df.iloc[row+1] = df.iloc[row] + df.iloc[row + 1]\n",
    "\n",
    "df = df.drop(bad_row_list) #get rid of bad rows\n",
    "\n",
    "#explore later\n",
    "#df.date.fillna('NaN',inplace=True)\n",
    "#fund={'date':'first','credit_raw':'sum','debit_raw':'sum','desc':','.join}\n",
    "#df = df.groupby(df.date.ne(df.date.shift()).cumsum()).agg(fund)"
   ]
  },
  {
   "cell_type": "code",
   "execution_count": 147,
   "metadata": {},
   "outputs": [],
   "source": [
    "#fill blank dates\n",
    "df.date = df.date.fillna(method = 'ffill')"
   ]
  },
  {
   "cell_type": "code",
   "execution_count": 108,
   "metadata": {},
   "outputs": [],
   "source": [
    "#get rid of NaNs\n",
    "#df = df.fillna(value = 0)"
   ]
  },
  {
   "cell_type": "code",
   "execution_count": 148,
   "metadata": {},
   "outputs": [
    {
     "data": {
      "text/html": [
       "<div>\n",
       "<style scoped>\n",
       "    .dataframe tbody tr th:only-of-type {\n",
       "        vertical-align: middle;\n",
       "    }\n",
       "\n",
       "    .dataframe tbody tr th {\n",
       "        vertical-align: top;\n",
       "    }\n",
       "\n",
       "    .dataframe thead th {\n",
       "        text-align: right;\n",
       "    }\n",
       "</style>\n",
       "<table border=\"1\" class=\"dataframe\">\n",
       "  <thead>\n",
       "    <tr style=\"text-align: right;\">\n",
       "      <th></th>\n",
       "      <th>date</th>\n",
       "      <th>credit_raw</th>\n",
       "      <th>debit_raw</th>\n",
       "      <th>desc</th>\n",
       "      <th>flag</th>\n",
       "    </tr>\n",
       "  </thead>\n",
       "  <tbody>\n",
       "    <tr>\n",
       "      <th>0</th>\n",
       "      <td>12/17/2019</td>\n",
       "      <td>0.00</td>\n",
       "      <td>5012.41</td>\n",
       "      <td>lp mka9004v8 hib- 863771153x3dswzi9ph christm...</td>\n",
       "      <td>5012.41</td>\n",
       "    </tr>\n",
       "    <tr>\n",
       "      <th>1</th>\n",
       "      <td>12/26/2019</td>\n",
       "      <td>0.00</td>\n",
       "      <td>0.30</td>\n",
       "      <td>tax from ssv ref zdd4-90012</td>\n",
       "      <td>0.30</td>\n",
       "    </tr>\n",
       "    <tr>\n",
       "      <th>2</th>\n",
       "      <td>12/26/2019</td>\n",
       "      <td>1.98</td>\n",
       "      <td>0.00</td>\n",
       "      <td>credit interest ref zdd4-90012</td>\n",
       "      <td>1.98</td>\n",
       "    </tr>\n",
       "    <tr>\n",
       "      <th>3</th>\n",
       "      <td>01/06/2020</td>\n",
       "      <td>0.00</td>\n",
       "      <td>673.01</td>\n",
       "      <td>pay by 061-032215-130 to 4363 6700 1003 2434 ...</td>\n",
       "      <td>673.01</td>\n",
       "    </tr>\n",
       "    <tr>\n",
       "      <th>5</th>\n",
       "      <td>01/06/2020</td>\n",
       "      <td>786.60</td>\n",
       "      <td>0.00</td>\n",
       "      <td>ocmt/u5d788.6 accident health intl underwriti...</td>\n",
       "      <td>786.60</td>\n",
       "    </tr>\n",
       "  </tbody>\n",
       "</table>\n",
       "</div>"
      ],
      "text/plain": [
       "         date  credit_raw  debit_raw  \\\n",
       "0  12/17/2019        0.00    5012.41   \n",
       "1  12/26/2019        0.00       0.30   \n",
       "2  12/26/2019        1.98       0.00   \n",
       "3  01/06/2020        0.00     673.01   \n",
       "5  01/06/2020      786.60       0.00   \n",
       "\n",
       "                                                desc     flag  \n",
       "0   lp mka9004v8 hib- 863771153x3dswzi9ph christm...  5012.41  \n",
       "1                        tax from ssv ref zdd4-90012     0.30  \n",
       "2                     credit interest ref zdd4-90012     1.98  \n",
       "3   pay by 061-032215-130 to 4363 6700 1003 2434 ...   673.01  \n",
       "5   ocmt/u5d788.6 accident health intl underwriti...   786.60  "
      ]
     },
     "execution_count": 148,
     "metadata": {},
     "output_type": "execute_result"
    }
   ],
   "source": [
    "df"
   ]
  },
  {
   "cell_type": "code",
   "execution_count": 153,
   "metadata": {},
   "outputs": [
    {
     "name": "stderr",
     "output_type": "stream",
     "text": [
      "[nltk_data] Downloading package punkt to /Users/gio/nltk_data...\n",
      "[nltk_data]   Unzipping tokenizers/punkt.zip.\n"
     ]
    },
    {
     "data": {
      "text/plain": [
       "True"
      ]
     },
     "execution_count": 153,
     "metadata": {},
     "output_type": "execute_result"
    }
   ],
   "source": [
    "import nltk\n",
    "nltk.download('punkt')"
   ]
  },
  {
   "cell_type": "code",
   "execution_count": 154,
   "metadata": {},
   "outputs": [],
   "source": [
    "from nltk.tokenize import word_tokenize\n"
   ]
  },
  {
   "cell_type": "code",
   "execution_count": 151,
   "metadata": {},
   "outputs": [],
   "source": [
    "from nltk.corpus import stopwords"
   ]
  },
  {
   "cell_type": "code",
   "execution_count": 155,
   "metadata": {},
   "outputs": [],
   "source": [
    " df['desc_token'] = df.desc.apply(word_tokenize)"
   ]
  },
  {
   "cell_type": "code",
   "execution_count": 156,
   "metadata": {},
   "outputs": [
    {
     "data": {
      "text/html": [
       "<div>\n",
       "<style scoped>\n",
       "    .dataframe tbody tr th:only-of-type {\n",
       "        vertical-align: middle;\n",
       "    }\n",
       "\n",
       "    .dataframe tbody tr th {\n",
       "        vertical-align: top;\n",
       "    }\n",
       "\n",
       "    .dataframe thead th {\n",
       "        text-align: right;\n",
       "    }\n",
       "</style>\n",
       "<table border=\"1\" class=\"dataframe\">\n",
       "  <thead>\n",
       "    <tr style=\"text-align: right;\">\n",
       "      <th></th>\n",
       "      <th>date</th>\n",
       "      <th>credit_raw</th>\n",
       "      <th>debit_raw</th>\n",
       "      <th>desc</th>\n",
       "      <th>flag</th>\n",
       "      <th>desc_token</th>\n",
       "    </tr>\n",
       "  </thead>\n",
       "  <tbody>\n",
       "    <tr>\n",
       "      <th>0</th>\n",
       "      <td>12/17/2019</td>\n",
       "      <td>0.00</td>\n",
       "      <td>5012.41</td>\n",
       "      <td>lp mka9004v8 hib- 863771153x3dswzi9ph christm...</td>\n",
       "      <td>5012.41</td>\n",
       "      <td>[lp, mka9004v8, hib-, 863771153x3dswzi9ph, chr...</td>\n",
       "    </tr>\n",
       "    <tr>\n",
       "      <th>1</th>\n",
       "      <td>12/26/2019</td>\n",
       "      <td>0.00</td>\n",
       "      <td>0.30</td>\n",
       "      <td>tax from ssv ref zdd4-90012</td>\n",
       "      <td>0.30</td>\n",
       "      <td>[tax, from, ssv, ref, zdd4-90012]</td>\n",
       "    </tr>\n",
       "    <tr>\n",
       "      <th>2</th>\n",
       "      <td>12/26/2019</td>\n",
       "      <td>1.98</td>\n",
       "      <td>0.00</td>\n",
       "      <td>credit interest ref zdd4-90012</td>\n",
       "      <td>1.98</td>\n",
       "      <td>[credit, interest, ref, zdd4-90012]</td>\n",
       "    </tr>\n",
       "    <tr>\n",
       "      <th>3</th>\n",
       "      <td>01/06/2020</td>\n",
       "      <td>0.00</td>\n",
       "      <td>673.01</td>\n",
       "      <td>pay by 061-032215-130 to 4363 6700 1003 2434 ...</td>\n",
       "      <td>673.01</td>\n",
       "      <td>[pay, by, 061-032215-130, to, 4363, 6700, 1003...</td>\n",
       "    </tr>\n",
       "    <tr>\n",
       "      <th>5</th>\n",
       "      <td>01/06/2020</td>\n",
       "      <td>786.60</td>\n",
       "      <td>0.00</td>\n",
       "      <td>ocmt/u5d788.6 accident health intl underwriti...</td>\n",
       "      <td>786.60</td>\n",
       "      <td>[ocmt/u5d788.6, accident, health, intl, underw...</td>\n",
       "    </tr>\n",
       "  </tbody>\n",
       "</table>\n",
       "</div>"
      ],
      "text/plain": [
       "         date  credit_raw  debit_raw  \\\n",
       "0  12/17/2019        0.00    5012.41   \n",
       "1  12/26/2019        0.00       0.30   \n",
       "2  12/26/2019        1.98       0.00   \n",
       "3  01/06/2020        0.00     673.01   \n",
       "5  01/06/2020      786.60       0.00   \n",
       "\n",
       "                                                desc     flag  \\\n",
       "0   lp mka9004v8 hib- 863771153x3dswzi9ph christm...  5012.41   \n",
       "1                        tax from ssv ref zdd4-90012     0.30   \n",
       "2                     credit interest ref zdd4-90012     1.98   \n",
       "3   pay by 061-032215-130 to 4363 6700 1003 2434 ...   673.01   \n",
       "5   ocmt/u5d788.6 accident health intl underwriti...   786.60   \n",
       "\n",
       "                                          desc_token  \n",
       "0  [lp, mka9004v8, hib-, 863771153x3dswzi9ph, chr...  \n",
       "1                  [tax, from, ssv, ref, zdd4-90012]  \n",
       "2                [credit, interest, ref, zdd4-90012]  \n",
       "3  [pay, by, 061-032215-130, to, 4363, 6700, 1003...  \n",
       "5  [ocmt/u5d788.6, accident, health, intl, underw...  "
      ]
     },
     "execution_count": 156,
     "metadata": {},
     "output_type": "execute_result"
    }
   ],
   "source": [
    "df"
   ]
  },
  {
   "cell_type": "code",
   "execution_count": 166,
   "metadata": {},
   "outputs": [
    {
     "name": "stdout",
     "output_type": "stream",
     "text": [
      "['lp', 'mka9004v8', 'hib-', '863771153x3dswzi9ph', 'christmas', 'expenses', 'briony', 'rae', 'eales', '2596232913', 'ayala', 'triangle', 'ref', 'g201-00456']\n",
      "['tax', 'from', 'ssv', 'ref', 'zdd4-90012']\n",
      "['credit', 'interest', 'ref', 'zdd4-90012']\n",
      "['pay', 'by', '061-032215-130', 'to', '4363', '6700', '1003', '2434', 'ref', 'zcpa-00084']\n",
      "['ocmt/u5d788.6', 'accident', 'health', 'intl', 'underwriting', 'p', 'nofx', 'medical', 'and', 'expenses', 'reimb', 'ursement', 'c0114167', 'r0303050', 'bny', 'cust', 'rrn', '-', 'f1s2001101323100', 'ref', 'yiro-00434']\n"
     ]
    }
   ],
   "source": [
    "for sentence in list(df.desc):\n",
    "    print(word_tokenize(sentence))"
   ]
  },
  {
   "cell_type": "code",
   "execution_count": 25,
   "metadata": {},
   "outputs": [
    {
     "data": {
      "text/html": [
       "<div>\n",
       "<style scoped>\n",
       "    .dataframe tbody tr th:only-of-type {\n",
       "        vertical-align: middle;\n",
       "    }\n",
       "\n",
       "    .dataframe tbody tr th {\n",
       "        vertical-align: top;\n",
       "    }\n",
       "\n",
       "    .dataframe thead th {\n",
       "        text-align: right;\n",
       "    }\n",
       "</style>\n",
       "<table border=\"1\" class=\"dataframe\">\n",
       "  <thead>\n",
       "    <tr style=\"text-align: right;\">\n",
       "      <th></th>\n",
       "      <th>date</th>\n",
       "      <th>credit_raw</th>\n",
       "      <th>debit_raw</th>\n",
       "      <th>desc</th>\n",
       "    </tr>\n",
       "  </thead>\n",
       "  <tbody>\n",
       "    <tr>\n",
       "      <th>0</th>\n",
       "      <td>12/17/2019</td>\n",
       "      <td>0.00</td>\n",
       "      <td>5012.41</td>\n",
       "      <td>lp mka9004v8 hib- 863771153x3dswzi9ph christm...</td>\n",
       "    </tr>\n",
       "    <tr>\n",
       "      <th>1</th>\n",
       "      <td>12/26/2019</td>\n",
       "      <td>0.00</td>\n",
       "      <td>0.30</td>\n",
       "      <td>tax from ssv ref zdd4-90012</td>\n",
       "    </tr>\n",
       "    <tr>\n",
       "      <th>2</th>\n",
       "      <td>NaN</td>\n",
       "      <td>1.98</td>\n",
       "      <td>0.00</td>\n",
       "      <td>credit interest ref zdd4-90012</td>\n",
       "    </tr>\n",
       "    <tr>\n",
       "      <th>3</th>\n",
       "      <td>01/06/2020</td>\n",
       "      <td>0.00</td>\n",
       "      <td>673.01</td>\n",
       "      <td>pay by 061-032215-130 to 4363 6700 1003 2434 ...</td>\n",
       "    </tr>\n",
       "    <tr>\n",
       "      <th>4</th>\n",
       "      <td>NaN</td>\n",
       "      <td>786.60</td>\n",
       "      <td>0.00</td>\n",
       "      <td>ocmt/u5d788.6 accident health intl underwriti...</td>\n",
       "    </tr>\n",
       "    <tr>\n",
       "      <th>5</th>\n",
       "      <td>NaN</td>\n",
       "      <td>786.60</td>\n",
       "      <td>0.00</td>\n",
       "      <td>ursement c0114167 r0303050 bny cust rrn - f1s...</td>\n",
       "    </tr>\n",
       "  </tbody>\n",
       "</table>\n",
       "</div>"
      ],
      "text/plain": [
       "         date  credit_raw  debit_raw  \\\n",
       "0  12/17/2019        0.00    5012.41   \n",
       "1  12/26/2019        0.00       0.30   \n",
       "2         NaN        1.98       0.00   \n",
       "3  01/06/2020        0.00     673.01   \n",
       "4         NaN      786.60       0.00   \n",
       "5         NaN      786.60       0.00   \n",
       "\n",
       "                                                desc  \n",
       "0   lp mka9004v8 hib- 863771153x3dswzi9ph christm...  \n",
       "1                        tax from ssv ref zdd4-90012  \n",
       "2                     credit interest ref zdd4-90012  \n",
       "3   pay by 061-032215-130 to 4363 6700 1003 2434 ...  \n",
       "4   ocmt/u5d788.6 accident health intl underwriti...  \n",
       "5   ursement c0114167 r0303050 bny cust rrn - f1s...  "
      ]
     },
     "execution_count": 25,
     "metadata": {},
     "output_type": "execute_result"
    }
   ],
   "source": [
    "df.loc[4] = df.loc[4] + df.loc[5]\n",
    "df"
   ]
  },
  {
   "cell_type": "code",
   "execution_count": null,
   "metadata": {},
   "outputs": [],
   "source": [
    "#drop last 3 rows\n",
    "df.drop(df.tail(3).index,inplace=True)"
   ]
  },
  {
   "cell_type": "code",
   "execution_count": null,
   "metadata": {},
   "outputs": [],
   "source": [
    "#drop unneeded rows\n",
    "df = df.drop(df[(df.debit_raw.isna() & df.credit_raw.isna())].index)"
   ]
  },
  {
   "cell_type": "code",
   "execution_count": null,
   "metadata": {},
   "outputs": [],
   "source": [
    "#rearrage\n",
    "df = df[['date','desc','debit_raw','credit_raw']]"
   ]
  },
  {
   "cell_type": "code",
   "execution_count": null,
   "metadata": {},
   "outputs": [],
   "source": [
    "#drop unneeded rows\n",
    "df = df.loc[-df.debit_raw.str.contains('\\n',na=False)]"
   ]
  },
  {
   "cell_type": "code",
   "execution_count": null,
   "metadata": {},
   "outputs": [],
   "source": [
    "#strip unneeded spaces\n",
    "df.desc = df.desc.str.strip()\n",
    "df.desc = df.desc.str.replace(\" +\",\" \")"
   ]
  },
  {
   "cell_type": "code",
   "execution_count": null,
   "metadata": {},
   "outputs": [],
   "source": [
    "#export to csv\n",
    "filename_csv_full = 'for import ' + filename.name\n",
    "export_csv = df.to_csv (filename_csv_full, index = None, header=True)"
   ]
  }
 ],
 "metadata": {
  "kernelspec": {
   "display_name": "Python 3",
   "language": "python",
   "name": "python3"
  },
  "language_info": {
   "codemirror_mode": {
    "name": "ipython",
    "version": 3
   },
   "file_extension": ".py",
   "mimetype": "text/x-python",
   "name": "python",
   "nbconvert_exporter": "python",
   "pygments_lexer": "ipython3",
   "version": "3.7.7"
  }
 },
 "nbformat": 4,
 "nbformat_minor": 4
}
